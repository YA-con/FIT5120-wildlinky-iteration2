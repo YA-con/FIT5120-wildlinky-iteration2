{
  "nbformat": 4,
  "nbformat_minor": 0,
  "metadata": {
    "colab": {
      "provenance": []
    },
    "kernelspec": {
      "name": "python3",
      "display_name": "Python 3"
    },
    "language_info": {
      "name": "python"
    }
  },
  "cells": [
    {
      "cell_type": "code",
      "execution_count": 3,
      "metadata": {
        "colab": {
          "base_uri": "https://localhost:8080/"
        },
        "id": "6vGR4hJzD5f4",
        "outputId": "9e419ab5-2757-472f-89ae-54f27e458967"
      },
      "outputs": [
        {
          "output_type": "stream",
          "name": "stdout",
          "text": [
            "Enter a Victorian postcode: 3141\n",
            "Postcode 3141 falls under the council: STONNINGTON\n"
          ]
        }
      ],
      "source": [
        "import geopandas as gpd\n",
        "\n",
        "# Load shapefiles\n",
        "lga_gdf = gpd.read_file(\"LGA_POLYGON.shp\")\n",
        "postcode_gdf = gpd.read_file(\"POSTCODE_POLYGON.shp\")\n",
        "\n",
        "# Ensure CRS matches\n",
        "postcode_gdf = postcode_gdf.to_crs(lga_gdf.crs)\n",
        "\n",
        "# Input postcode\n",
        "user_postcode = input(\"Enter a Victorian postcode: \").strip()\n",
        "\n",
        "# Find matching postcode\n",
        "matched_postcode = postcode_gdf[postcode_gdf['POSTCODE'] == user_postcode]\n",
        "\n",
        "if matched_postcode.empty:\n",
        "    print(\"Postcode not found in the dataset.\")\n",
        "else:\n",
        "    # Get the centroid of the postcode area\n",
        "    postcode_centroid = matched_postcode.geometry.centroid.iloc[0]\n",
        "\n",
        "    # Find the LGA polygon that contains the centroid\n",
        "    matched_lga = lga_gdf[lga_gdf.contains(postcode_centroid)]\n",
        "\n",
        "    if matched_lga.empty:\n",
        "        print(\"No matching LGA found for the centroid.\")\n",
        "    else:\n",
        "        # Display LGA name\n",
        "        lga_name = matched_lga.iloc[0]['LGA_NAME'] if 'LGA_NAME' in matched_lga.columns else matched_lga.iloc[0]['NAME']\n",
        "        print(f\"Postcode {user_postcode} falls under the council: {lga_name}\")\n"
      ]
    },
    {
      "cell_type": "code",
      "source": [
        "import geopandas as gpd\n",
        "import pandas as pd\n",
        "\n",
        "# Load shapefiles\n",
        "lga_gdf = gpd.read_file(\"LGA_POLYGON.shp\")\n",
        "postcode_gdf = gpd.read_file(\"POSTCODE_POLYGON.shp\")\n",
        "\n",
        "# Ensure CRS matches\n",
        "postcode_gdf = postcode_gdf.to_crs(lga_gdf.crs)\n",
        "\n",
        "# Calculate centroids for postcode polygons\n",
        "postcode_gdf['centroid'] = postcode_gdf.geometry.centroid\n",
        "\n",
        "# Prepare result list\n",
        "results = []\n",
        "\n",
        "# Loop through postcode areas\n",
        "for idx, row in postcode_gdf.iterrows():\n",
        "    postcode = row['POSTCODE']\n",
        "    centroid = row['centroid']\n",
        "\n",
        "    # Find LGA containing the centroid\n",
        "    matched_lgas = lga_gdf[lga_gdf.contains(centroid)]\n",
        "\n",
        "    for _, lga_row in matched_lgas.iterrows():\n",
        "        lga_name = lga_row.get('LGA_NAME') or lga_row.get('NAME') or \"Unknown\"\n",
        "        lga_code = lga_row.get('LGA_CODE', \"\")\n",
        "        results.append({\n",
        "            'postcode': postcode,\n",
        "            'centroid_lat': centroid.y,\n",
        "            'centroid_lon': centroid.x,\n",
        "            'lga_name': lga_name,\n",
        "            'lga_code': lga_code\n",
        "        })\n",
        "\n",
        "# Convert to DataFrame\n",
        "result_df = pd.DataFrame(results)\n",
        "\n",
        "# Save to CSV\n",
        "result_df.to_csv(\"vic_postcode_lga_mapping.csv\", index=False)\n",
        "\n",
        "print(\"✅ CSV saved as vic_postcode_lga_mapping.csv\")\n"
      ],
      "metadata": {
        "id": "rUaqg5g3EGCk",
        "colab": {
          "base_uri": "https://localhost:8080/"
        },
        "outputId": "578b84f3-25fc-4cf7-de8a-0b7de920f5c4"
      },
      "execution_count": 4,
      "outputs": [
        {
          "output_type": "stream",
          "name": "stdout",
          "text": [
            "✅ CSV saved as vic_postcode_lga_mapping.csv\n"
          ]
        }
      ]
    },
    {
      "cell_type": "code",
      "source": [
        "import pandas as pd\n",
        "import re\n",
        "\n",
        "# Load data\n",
        "postcode_df = pd.read_csv(\"vic_postcode_lga_mapping.csv\")\n",
        "council_df = pd.read_csv(\"vic_council_details_rows.csv\")\n",
        "\n",
        "# Normalize function for council names\n",
        "def normalize_council_name(name):\n",
        "    name = name.upper().strip()\n",
        "    name = re.sub(r'\\s+(CITY|SHIRE|RURAL CITY)\\s+COUNCIL', '', name)\n",
        "    name = name.replace('BOROUGH OF ', '')\n",
        "    name = name.replace('CITY COUNCIL', '').replace('SHIRE COUNCIL', '')\n",
        "    name = name.replace('RURAL CITY COUNCIL', '')\n",
        "    name = name.strip()\n",
        "    return name\n",
        "\n",
        "# Create matching keys\n",
        "council_df['council_key'] = council_df['council_name'].apply(normalize_council_name)\n",
        "postcode_df['lga_key'] = postcode_df['lga_name'].str.strip().str.upper()\n",
        "\n",
        "# Get list of unique keys\n",
        "postcode_keys = set(postcode_df['lga_key'].unique())\n",
        "council_keys = set(council_df['council_key'].unique())\n",
        "\n",
        "# Find unmatched LGA names\n",
        "unmatched_lgas = postcode_keys - council_keys\n",
        "\n",
        "# Print unmatched\n",
        "if unmatched_lgas:\n",
        "    print(\"⚠️ The following LGA names from the postcode data had no match in the council file:\\n\")\n",
        "    for lga in sorted(unmatched_lgas):\n",
        "        print(f\" - {lga}\")\n",
        "else:\n",
        "    print(\"✅ All LGA names matched successfully!\")\n",
        "\n",
        "# Merge the datasets\n",
        "merged_df = pd.merge(postcode_df, council_df, left_on='lga_key', right_on='council_key', how='left')\n",
        "df_selected = merged_df.rename(columns={\"postcode_x\": \"postcode\"})[\n",
        "    [\"council_name\", \"tel_phone\", \"ceo_name\", \"postcode\",\n",
        "     \"fax\", \"mayor\", \"email\", \"website\", \"address\"]\n",
        "]\n",
        "# Save to CSV\n",
        "df_selected.to_csv(\"postcode_to_council_merged.csv\", index=False)\n",
        "print(\"✅ CSV saved as postcode_to_council_merged.csv\")\n"
      ],
      "metadata": {
        "colab": {
          "base_uri": "https://localhost:8080/"
        },
        "id": "KviW1TmjLbG9",
        "outputId": "44f59881-1410-4415-dd3d-5797e312f787"
      },
      "execution_count": 8,
      "outputs": [
        {
          "output_type": "stream",
          "name": "stdout",
          "text": [
            "⚠️ The following LGA names from the postcode data had no match in the council file:\n",
            "\n",
            " - FRENCH-ELIZABETH-SANDSTONE ISLANDS (UNINC)\n",
            " - YARRIAMBIACK\n",
            "✅ CSV saved as postcode_to_council_merged.csv\n"
          ]
        }
      ]
    },
    {
      "cell_type": "code",
      "source": [
        "df_selected.shape"
      ],
      "metadata": {
        "id": "alOQRrVnWLNV",
        "colab": {
          "base_uri": "https://localhost:8080/"
        },
        "outputId": "81d8c708-0343-4512-c773-02035da2c7d4"
      },
      "execution_count": 10,
      "outputs": [
        {
          "output_type": "execute_result",
          "data": {
            "text/plain": [
              "(693, 9)"
            ]
          },
          "metadata": {},
          "execution_count": 10
        }
      ]
    }
  ]
}